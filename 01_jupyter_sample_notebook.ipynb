{
 "cells": [
  {
   "cell_type": "markdown",
   "id": "9f086bbf",
   "metadata": {},
   "source": [
    "<center>\n",
    "    <p float=\"center\">\n",
    "  <img src=\"https://s3.us-east-1.amazonaws.com/contents.newzenler.com/13491/library/6039398038d5f_1614363008_artboard-1-copy-11-100.jpg\" width=\"200\" height=\"80\"/>\n",
    "</p>\n",
    "</center>\n",
    "\n",
    "<font size=4>\n",
    "<center>\n",
    "<a href=\"https://www.codinggears.io/\" target=\"_blank\">https://www.CodingGears.io!</a>\n",
    "</center>"
   ]
  },
  {
   "cell_type": "markdown",
   "id": "60b7f40b",
   "metadata": {},
   "source": [
    "# Welcome to Jupyter Notebook!"
   ]
  },
  {
   "cell_type": "markdown",
   "id": "24d0172b",
   "metadata": {},
   "source": [
    "Jupyter Notebook is an open-source web application that allows you to create and share documents that contain live code, equations, visualizations, and narrative text. \n",
    "\n",
    "It's widely used in data science, research, education, and other fields where data analysis and visualization are essential."
   ]
  },
  {
   "cell_type": "markdown",
   "id": "bc73d63e",
   "metadata": {},
   "source": [
    "<HTML>\n",
    "    <a href=\"https://www.codinggears.io/\" target=\"_blank\">Visit CodingGears.IO!</a>\n",
    "</HTML>"
   ]
  },
  {
   "cell_type": "code",
   "execution_count": 1,
   "id": "b4f5b2bd",
   "metadata": {},
   "outputs": [
    {
     "name": "stdout",
     "output_type": "stream",
     "text": [
      "Welcome to the Jupyter World!!\n"
     ]
    }
   ],
   "source": [
    "print(\"Welcome to the Jupyter World!!\")"
   ]
  },
  {
   "cell_type": "code",
   "execution_count": null,
   "id": "ba04e0a5",
   "metadata": {},
   "outputs": [],
   "source": [
    "a = 1\n",
    "b = 2"
   ]
  },
  {
   "cell_type": "code",
   "execution_count": null,
   "id": "e25cbf5c",
   "metadata": {},
   "outputs": [],
   "source": [
    "sum = a + b"
   ]
  },
  {
   "cell_type": "code",
   "execution_count": null,
   "id": "7e812ee6",
   "metadata": {},
   "outputs": [],
   "source": [
    "print(\"The sum is : \", sum)"
   ]
  }
 ],
 "metadata": {
  "kernelspec": {
   "display_name": "Python 3 (ipykernel)",
   "language": "python",
   "name": "python3"
  },
  "language_info": {
   "codemirror_mode": {
    "name": "ipython",
    "version": 3
   },
   "file_extension": ".py",
   "mimetype": "text/x-python",
   "name": "python",
   "nbconvert_exporter": "python",
   "pygments_lexer": "ipython3",
   "version": "3.11.7"
  }
 },
 "nbformat": 4,
 "nbformat_minor": 5
}
