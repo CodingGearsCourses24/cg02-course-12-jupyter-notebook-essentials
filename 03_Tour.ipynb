{
 "cells": [
  {
   "cell_type": "markdown",
   "id": "ed237b0b",
   "metadata": {},
   "source": [
    "<center>\n",
    "    <p float=\"center\">\n",
    "  <img src=\"https://s3.us-east-1.amazonaws.com/contents.newzenler.com/13491/library/6039398038d5f_1614363008_artboard-1-copy-11-100.jpg\" width=\"200\" height=\"80\"/>\n",
    "</p>\n",
    "</center>\n",
    "\n",
    "<font size=4>\n",
    "<center>\n",
    "<a href=\"https://www.codinggears.io/\" target=\"_blank\">https://www.CodingGears.io!</a>\n",
    "</center>\n",
    "    \n",
    "<h1>\n",
    "    <center>\n",
    "        <font size=6>Welcome To CodingGears.io</font>\n",
    "    </center>\n",
    "</h1>"
   ]
  },
  {
   "cell_type": "markdown",
   "id": "ba313efa",
   "metadata": {},
   "source": [
    "## Topics for this sessions"
   ]
  },
  {
   "cell_type": "markdown",
   "id": "a79983d6",
   "metadata": {},
   "source": [
    "* Menu Walk-thru\n",
    "* Menu Icon Walk-thru\n",
    "* Executing Code Cells\n",
    "* Executing Markdown Cells"
   ]
  },
  {
   "cell_type": "markdown",
   "id": "bfb7dd01",
   "metadata": {},
   "source": [
    "## Code Cells"
   ]
  },
  {
   "cell_type": "code",
   "execution_count": null,
   "id": "7b101577",
   "metadata": {},
   "outputs": [],
   "source": [
    "print(\"Welcome to CodingGears.io\")"
   ]
  },
  {
   "cell_type": "code",
   "execution_count": null,
   "id": "a92ce4a6",
   "metadata": {},
   "outputs": [],
   "source": [
    "# Simple Math\n",
    "num1 = 5\n",
    "num2 = 10\n",
    "print(\"num1 + num2 :\",num1+num2)\n",
    "print(\"num1 - num2 :\",num1-num2)\n",
    "print(\"num1 * num2 :\",num1*num2)"
   ]
  },
  {
   "cell_type": "code",
   "execution_count": null,
   "id": "7e2a69d5",
   "metadata": {},
   "outputs": [],
   "source": [
    "import numpy as np\n",
    "import pandas as pd\n",
    "import matplotlib.pyplot as plt"
   ]
  },
  {
   "cell_type": "code",
   "execution_count": null,
   "id": "8e9c6c80",
   "metadata": {},
   "outputs": [],
   "source": [
    "# Sample data\n",
    "x = np.arange(1, 11)\n",
    "y = 2 ** x + 5\n",
    "\n",
    "# Create the line chart\n",
    "plt.title(\"Line graph\")\n",
    "plt.xlabel(\"X axis\")\n",
    "plt.ylabel(\"Y axis\")\n",
    "plt.plot(x, y, color=\"red\")\n",
    "plt.show()"
   ]
  },
  {
   "cell_type": "code",
   "execution_count": null,
   "id": "809d9b2b",
   "metadata": {},
   "outputs": [],
   "source": [
    "# Sample data\n",
    "x = 0.5 + np.arange(8)\n",
    "y = [4.8, 5.5, 3.5, 4.6, 6.5, 6.6, 2.6, 3.0]\n",
    "\n",
    "# Create the bar chart\n",
    "fig, ax = plt.subplots()\n",
    "ax.bar(x, y, width=1, edgecolor=\"white\", linewidth=0.7)\n",
    "\n",
    "# Set axis limits and ticks\n",
    "ax.set(xlim=(0, 8), xticks=np.arange(1, 8), ylim=(0, 8), yticks=np.arange(1, 8))\n",
    "\n",
    "# Show the plot\n",
    "plt.show()"
   ]
  },
  {
   "cell_type": "code",
   "execution_count": null,
   "id": "2e4ed388",
   "metadata": {},
   "outputs": [],
   "source": [
    "# Generate random data\n",
    "np.random.seed(1)\n",
    "N = 50\n",
    "x = np.random.rand(N)\n",
    "y = np.random.rand(N)\n",
    "colors = np.random.rand(N)\n",
    "area = (30 * np.random.rand(N))**2\n",
    "\n",
    "# Create the scatter plot\n",
    "plt.scatter(x, y, s=area, c=colors, alpha=0.5)\n",
    "\n",
    "# Customize the plot (optional)\n",
    "plt.xlabel(\"X-axis\")\n",
    "plt.ylabel(\"Y-axis\")\n",
    "plt.title(\"Random Scatter Plot\")\n",
    "\n",
    "# Show the plot\n",
    "plt.show()"
   ]
  },
  {
   "cell_type": "markdown",
   "id": "5dae1df5",
   "metadata": {},
   "source": [
    "## Markdown Cells"
   ]
  },
  {
   "cell_type": "markdown",
   "id": "473e30eb",
   "metadata": {},
   "source": [
    "# Header Size\n",
    "## Header Size\n",
    "### Header Size\n",
    "#### Header Size\n",
    "##### Header Size\n",
    "###### Header Size"
   ]
  },
  {
   "cell_type": "code",
   "execution_count": null,
   "id": "ade597c7",
   "metadata": {},
   "outputs": [],
   "source": [
    "\n",
    "# load csv file using pandas\n",
    "data = pd.read_csv(\"data_customers_100.csv\")\n",
    "\n",
    "# Create a pandas dataframe\n",
    "df = pd.DataFrame(data)\n",
    "df.head()\n"
   ]
  },
  {
   "cell_type": "code",
   "execution_count": null,
   "id": "e7e815d2",
   "metadata": {},
   "outputs": [],
   "source": [
    "import time\n",
    "\n",
    "# Wait for 10 minutes\n",
    "time.sleep(600)\n"
   ]
  }
 ],
 "metadata": {
  "kernelspec": {
   "display_name": "Python 3 (ipykernel)",
   "language": "python",
   "name": "python3"
  },
  "language_info": {
   "codemirror_mode": {
    "name": "ipython",
    "version": 3
   },
   "file_extension": ".py",
   "mimetype": "text/x-python",
   "name": "python",
   "nbconvert_exporter": "python",
   "pygments_lexer": "ipython3",
   "version": "3.11.7"
  }
 },
 "nbformat": 4,
 "nbformat_minor": 5
}
