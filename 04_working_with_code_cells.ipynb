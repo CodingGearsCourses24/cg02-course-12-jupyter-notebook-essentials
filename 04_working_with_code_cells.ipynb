{
 "cells": [
  {
   "cell_type": "markdown",
   "id": "a75c294b",
   "metadata": {},
   "source": [
    "<center>\n",
    "    <p float=\"center\">\n",
    "  <img src=\"https://s3.us-east-1.amazonaws.com/contents.newzenler.com/13491/library/6039398038d5f_1614363008_artboard-1-copy-11-100.jpg\" width=\"200\" height=\"80\"/>\n",
    "</p>\n",
    "</center>\n",
    "\n",
    "<font size=4>\n",
    "<center>\n",
    "<a href=\"https://www.codinggears.io/\" target=\"_blank\">https://www.CodingGears.io!</a>\n",
    "</center>"
   ]
  },
  {
   "cell_type": "markdown",
   "id": "ed237b0b",
   "metadata": {},
   "source": [
    "# Working with Code cells"
   ]
  },
  {
   "cell_type": "markdown",
   "id": "ba313efa",
   "metadata": {},
   "source": [
    "## Topics for this sessions"
   ]
  },
  {
   "cell_type": "markdown",
   "id": "a79983d6",
   "metadata": {},
   "source": [
    "* Adding & Inserting\n",
    "* Deleting\n",
    "* Copying & Pasting\n",
    "* Moving Cells around\n",
    "* Executing Code Cells\n",
    "    * Single Cell\n",
    "    * All Cells\n",
    "    * Run Above\n",
    "    * Run Below\n",
    "* Outputs & Clearing Outputs\n",
    "* Working with Kernel"
   ]
  },
  {
   "cell_type": "markdown",
   "id": "d88eec3a",
   "metadata": {},
   "source": [
    " ## Cell Types"
   ]
  },
  {
   "cell_type": "markdown",
   "id": "66c56c4c",
   "metadata": {},
   "source": [
    "- Code\n",
    "    - Used fir Python code\n",
    "- Markdown\n",
    "    - Used for Markdown text\n",
    "- Raw \n",
    "    - This cell is used by the nbconvert command line utility to format HTML and Latex"
   ]
  },
  {
   "cell_type": "markdown",
   "id": "bfb7dd01",
   "metadata": {},
   "source": [
    "## Code Cells"
   ]
  },
  {
   "cell_type": "code",
   "execution_count": null,
   "id": "7b101577",
   "metadata": {},
   "outputs": [],
   "source": [
    "print(\"Welcome to CodingGears.io\")"
   ]
  },
  {
   "cell_type": "code",
   "execution_count": null,
   "id": "a92ce4a6",
   "metadata": {},
   "outputs": [],
   "source": [
    "# Simple Math\n",
    "num1 = 5\n",
    "num2 = 10\n",
    "print(\"num1 + num2 :\",num1+num2)\n",
    "print(\"num1 - num2 :\",num1-num2)\n",
    "print(\"num1 * num2 :\",num1*num2)"
   ]
  },
  {
   "cell_type": "code",
   "execution_count": null,
   "id": "413b6e18",
   "metadata": {
    "scrolled": true
   },
   "outputs": [],
   "source": [
    "import numpy as np\n",
    "import pandas as pd\n",
    "\n",
    "df = pd.DataFrame(np.random.randn(20,4))\n",
    "df.head(10)"
   ]
  },
  {
   "cell_type": "code",
   "execution_count": null,
   "id": "17b6cb8f",
   "metadata": {},
   "outputs": [],
   "source": [
    "%matplotlib inline"
   ]
  },
  {
   "cell_type": "code",
   "execution_count": null,
   "id": "f29a003c",
   "metadata": {},
   "outputs": [],
   "source": [
    "import numpy as np \n",
    "import matplotlib.pyplot as plt \n",
    "\n",
    "# create data \n",
    "x = [\"A\", \"B\", \"C\", \"D\", \"E\"]\n",
    "y = [49, 33, 44, 20, 90] \n",
    "width = 0.40\n",
    "  \n",
    "# plot data in grouped manner of bar type \n",
    "plt.bar(x, y, width) "
   ]
  },
  {
   "cell_type": "code",
   "execution_count": null,
   "id": "cc783cbc",
   "metadata": {},
   "outputs": [],
   "source": [
    "import pandas as pd\n",
    "\n",
    "# load csv file using pandas\n",
    "data = pd.read_csv(\"data_employees.csv\")\n",
    "\n",
    "# Create a pandas dataframe\n",
    "df = pd.DataFrame(data)\n",
    "df.head()"
   ]
  },
  {
   "cell_type": "code",
   "execution_count": null,
   "id": "a19bbfd5",
   "metadata": {},
   "outputs": [],
   "source": [
    "import time\n",
    "\n",
    "# Wait for 10 minutes\n",
    "time.sleep(600)"
   ]
  }
 ],
 "metadata": {
  "kernelspec": {
   "display_name": "Python 3 (ipykernel)",
   "language": "python",
   "name": "python3"
  },
  "language_info": {
   "codemirror_mode": {
    "name": "ipython",
    "version": 3
   },
   "file_extension": ".py",
   "mimetype": "text/x-python",
   "name": "python",
   "nbconvert_exporter": "python",
   "pygments_lexer": "ipython3",
   "version": "3.11.7"
  }
 },
 "nbformat": 4,
 "nbformat_minor": 5
}
