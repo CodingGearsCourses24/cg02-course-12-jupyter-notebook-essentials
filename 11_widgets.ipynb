{
 "cells": [
  {
   "cell_type": "markdown",
   "id": "6fbc0fb5",
   "metadata": {},
   "source": [
    "<center>\n",
    "    <p float=\"center\">\n",
    "  <img src=\"https://s3.us-east-1.amazonaws.com/contents.newzenler.com/13491/library/6039398038d5f_1614363008_artboard-1-copy-11-100.jpg\" width=\"200\" height=\"80\"/>\n",
    "</p>\n",
    "</center>\n",
    "\n",
    "<font size=4>\n",
    "<center>\n",
    "<a href=\"https://www.codinggears.io/\" target=\"_blank\">https://www.CodingGears.io!</a>\n",
    "</center>"
   ]
  },
  {
   "cell_type": "markdown",
   "id": "8c873ac0",
   "metadata": {},
   "source": [
    "# Working with Widgets"
   ]
  },
  {
   "cell_type": "markdown",
   "id": "cc59dc2e",
   "metadata": {},
   "source": [
    "#### Imports"
   ]
  },
  {
   "cell_type": "code",
   "execution_count": null,
   "id": "a5dad917",
   "metadata": {},
   "outputs": [],
   "source": [
    "import numpy as np\n",
    "from matplotlib import pyplot as plt\n",
    "\n",
    "import ipywidgets as widgets\n",
    "print(widgets.__version__)"
   ]
  },
  {
   "cell_type": "code",
   "execution_count": null,
   "id": "765fda76",
   "metadata": {},
   "outputs": [],
   "source": [
    "from ipywidgets import interact, interactive"
   ]
  },
  {
   "cell_type": "markdown",
   "id": "0460b832",
   "metadata": {},
   "source": [
    "#### Numeric Slider"
   ]
  },
  {
   "cell_type": "code",
   "execution_count": null,
   "id": "dfe10070",
   "metadata": {},
   "outputs": [],
   "source": [
    "def sum(num1, num2):\n",
    "    return num1 + num2\n",
    "    \n",
    "total = sum(10, 20)\n",
    "\n",
    "total"
   ]
  },
  {
   "cell_type": "code",
   "execution_count": null,
   "id": "460eaa7c",
   "metadata": {},
   "outputs": [],
   "source": [
    "def sum(num1, num2):\n",
    "    return num1 + num2\n",
    "    \n",
    "interact(sum, num1=10, num2=250);"
   ]
  },
  {
   "cell_type": "code",
   "execution_count": null,
   "id": "f63fd685",
   "metadata": {},
   "outputs": [],
   "source": [
    "def fahrenheit2celsious(temp_in_fah):\n",
    "    temp_in_celsius = (temp_in_fah - 32) * 5/9\n",
    "    return temp_in_celsius\n",
    "\n",
    "interact(fahrenheit2celsious, temp_in_fah=120);"
   ]
  },
  {
   "cell_type": "markdown",
   "id": "b0e9dbcc",
   "metadata": {},
   "source": [
    "#### Textbox"
   ]
  },
  {
   "cell_type": "code",
   "execution_count": null,
   "id": "06e21608",
   "metadata": {},
   "outputs": [],
   "source": [
    "def concat(string_a, string_b):\n",
    "    return string_a + \" \" + string_b + \"!!\""
   ]
  },
  {
   "cell_type": "code",
   "execution_count": null,
   "id": "0af35e7d",
   "metadata": {},
   "outputs": [],
   "source": [
    "interact(concat, string_a=\"Hello\", string_b=\"World\");"
   ]
  },
  {
   "cell_type": "markdown",
   "id": "8e072d48",
   "metadata": {},
   "source": [
    "#### Dropdown"
   ]
  },
  {
   "cell_type": "code",
   "execution_count": null,
   "id": "e58ba66e",
   "metadata": {},
   "outputs": [],
   "source": [
    "def selection(city, state):\n",
    "    return city + \", \" + state\n",
    "\n",
    "dropdown_city = widgets.Dropdown(options=[\"Dallas\", \"Houston\", \"Austin\"])\n",
    "dropdown_state = widgets.Dropdown(options=[\"Texas\", \"California\", \"Florida\"])"
   ]
  },
  {
   "cell_type": "code",
   "execution_count": null,
   "id": "e30a83fd",
   "metadata": {},
   "outputs": [],
   "source": [
    "interact(selection, city=dropdown_city, state=dropdown_state);"
   ]
  },
  {
   "cell_type": "code",
   "execution_count": null,
   "id": "cc16251d",
   "metadata": {},
   "outputs": [],
   "source": [
    "# Display value\n",
    "dropdown_city.value"
   ]
  },
  {
   "cell_type": "code",
   "execution_count": null,
   "id": "93e153cb",
   "metadata": {},
   "outputs": [],
   "source": [
    "dropdown_state.value"
   ]
  },
  {
   "cell_type": "markdown",
   "id": "3ed023a0",
   "metadata": {},
   "source": [
    "#### Radio Button"
   ]
  },
  {
   "cell_type": "code",
   "execution_count": null,
   "id": "b7f03044",
   "metadata": {},
   "outputs": [],
   "source": [
    "# Create three radio buttons\n",
    "\n",
    "# Display radio buttons\n"
   ]
  },
  {
   "cell_type": "code",
   "execution_count": null,
   "id": "aeb2aed8",
   "metadata": {},
   "outputs": [],
   "source": [
    "# Display the selected option\n"
   ]
  },
  {
   "cell_type": "markdown",
   "id": "ee37f156",
   "metadata": {},
   "source": [
    "#### Checkbox"
   ]
  },
  {
   "cell_type": "code",
   "execution_count": null,
   "id": "89002c66",
   "metadata": {},
   "outputs": [],
   "source": [
    "checkbox_1 = widgets.Checkbox(description=\"Check me\")\n",
    "checkbox_1"
   ]
  },
  {
   "cell_type": "code",
   "execution_count": null,
   "id": "41fbffaa",
   "metadata": {},
   "outputs": [],
   "source": [
    "# Display the value\n",
    "checkbox_1.value"
   ]
  },
  {
   "cell_type": "markdown",
   "id": "1f4781d1",
   "metadata": {},
   "source": [
    "#### Interactive"
   ]
  },
  {
   "cell_type": "code",
   "execution_count": null,
   "id": "21b9ef1c",
   "metadata": {},
   "outputs": [],
   "source": [
    "from IPython.display import display\n",
    "\n",
    "def calc_magic(a, b):\n",
    "    print(a**2 + b**2)\n",
    "\n",
    "v1 = widgets.IntSlider()\n",
    "v2 = widgets.IntSlider()\n",
    "\n",
    "gui = interactive(calc_magic, a=v1, b=v2)\n",
    "\n",
    "display(gui)"
   ]
  },
  {
   "cell_type": "markdown",
   "id": "dd9fd7a1",
   "metadata": {},
   "source": [
    "#### Sine Wave - 1"
   ]
  },
  {
   "cell_type": "code",
   "execution_count": null,
   "id": "04abd58d",
   "metadata": {},
   "outputs": [],
   "source": [
    "def sine_wave():\n",
    "    x = np.linspace(0, 15, 10)\n",
    "    y = np.sin(x)\n",
    "    plt.plot(x, y)"
   ]
  },
  {
   "cell_type": "code",
   "execution_count": null,
   "id": "d3f8f947",
   "metadata": {},
   "outputs": [],
   "source": [
    "sine_wave();"
   ]
  },
  {
   "cell_type": "markdown",
   "id": "f8fe5aa7",
   "metadata": {},
   "source": [
    "#### Sine Wave - 2 (Interactive)"
   ]
  },
  {
   "cell_type": "code",
   "execution_count": null,
   "id": "36f080a1",
   "metadata": {},
   "outputs": [],
   "source": [
    "def sine_wave2(var=0, no_of_data_points='4'):\n",
    "    x = np.linspace(0, 15, int(no_of_data_points))\n",
    "    y = np.sin(x)\n",
    "    plt.plot(x, y)"
   ]
  },
  {
   "cell_type": "code",
   "execution_count": null,
   "id": "ba2645ee",
   "metadata": {},
   "outputs": [],
   "source": [
    "sine_wave2(var=5, no_of_data_points=500);"
   ]
  },
  {
   "cell_type": "code",
   "execution_count": null,
   "id": "da3b1618",
   "metadata": {},
   "outputs": [],
   "source": [
    "widgets.interact(sine_wave2, var=(0, 20, 1), no_of_data_points='5');"
   ]
  }
 ],
 "metadata": {
  "kernelspec": {
   "display_name": "Python 3 (ipykernel)",
   "language": "python",
   "name": "python3"
  },
  "language_info": {
   "codemirror_mode": {
    "name": "ipython",
    "version": 3
   },
   "file_extension": ".py",
   "mimetype": "text/x-python",
   "name": "python",
   "nbconvert_exporter": "python",
   "pygments_lexer": "ipython3",
   "version": "3.11.7"
  }
 },
 "nbformat": 4,
 "nbformat_minor": 5
}
