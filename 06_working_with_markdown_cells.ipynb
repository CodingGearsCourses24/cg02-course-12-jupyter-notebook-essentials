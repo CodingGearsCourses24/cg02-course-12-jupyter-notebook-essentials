{
 "cells": [
  {
   "cell_type": "markdown",
   "id": "e96ad402",
   "metadata": {},
   "source": [
    "<center>\n",
    "    <p float=\"center\">\n",
    "  <img src=\"https://s3.us-east-1.amazonaws.com/contents.newzenler.com/13491/library/6039398038d5f_1614363008_artboard-1-copy-11-100.jpg\" width=\"200\" height=\"80\"/>\n",
    "</p>\n",
    "</center>\n",
    "\n",
    "<font size=4>\n",
    "<center>\n",
    "<a href=\"https://www.codinggears.io/\" target=\"_blank\">https://www.CodingGears.io!</a>\n",
    "</center>"
   ]
  },
  {
   "cell_type": "markdown",
   "id": "8c873ac0",
   "metadata": {},
   "source": [
    "# Working with Markdown cells"
   ]
  },
  {
   "cell_type": "markdown",
   "id": "dfb7f26b",
   "metadata": {},
   "source": [
    "# This is Header"
   ]
  },
  {
   "cell_type": "markdown",
   "id": "31ecfe00",
   "metadata": {},
   "source": [
    "Header start with a #,  ##,  ###,  ####,  ##### and ######"
   ]
  },
  {
   "cell_type": "markdown",
   "id": "39f475a3",
   "metadata": {},
   "source": [
    "# Bold & Italic"
   ]
  },
  {
   "cell_type": "markdown",
   "id": "b77c6c36",
   "metadata": {},
   "source": [
    "**This is bold text**  \n",
    "__This is bold text__\n",
    "\n",
    "\n",
    "\n",
    "*This is italic text*  \n",
    "_This is italic text_\n",
    "\n",
    "\n",
    "***Bold and Italic***  \n",
    "___Bold and Italic___"
   ]
  },
  {
   "cell_type": "markdown",
   "id": "f6b3e6a9",
   "metadata": {},
   "source": [
    "# Scratch"
   ]
  },
  {
   "cell_type": "markdown",
   "id": "6923ed7f",
   "metadata": {},
   "source": [
    "~~Scratch this~~\n"
   ]
  },
  {
   "cell_type": "markdown",
   "id": "f48dbf0b",
   "metadata": {},
   "source": [
    "# Paragraph"
   ]
  },
  {
   "cell_type": "markdown",
   "id": "6f3a2d93",
   "metadata": {},
   "source": [
    "Jupyter Notebook is an open-source web application that allows you to create and share documents that contain live code, equations, visualizations, and narrative text.\n",
    "\n",
    "It's widely used in data science, research, education, and other fields where data analysis and visualization are essential."
   ]
  },
  {
   "cell_type": "markdown",
   "id": "7eb77f5a",
   "metadata": {},
   "source": [
    "# Blockquotes"
   ]
  },
  {
   "cell_type": "markdown",
   "id": "f85e5df1",
   "metadata": {},
   "source": [
    "> This is a blockquote"
   ]
  },
  {
   "cell_type": "markdown",
   "id": "92bd39db",
   "metadata": {},
   "source": [
    "# HORIZONTAL LINE"
   ]
  },
  {
   "cell_type": "markdown",
   "id": "067603dd",
   "metadata": {},
   "source": [
    "---\n",
    "___\n",
    "***"
   ]
  },
  {
   "cell_type": "markdown",
   "id": "886d4ebc",
   "metadata": {},
   "source": [
    "# Bullets\n",
    "* One\n",
    "* Two\n",
    "* Three\n",
    "    * a\n",
    "    * b"
   ]
  },
  {
   "cell_type": "markdown",
   "id": "5c077d18",
   "metadata": {},
   "source": [
    "# Number List\n",
    "1. One\n",
    "2. Two\n",
    "3. Three"
   ]
  },
  {
   "cell_type": "markdown",
   "id": "85294e76",
   "metadata": {},
   "source": [
    "# Links"
   ]
  },
  {
   "cell_type": "markdown",
   "id": "a9fdf01f",
   "metadata": {},
   "source": [
    "Here are some of the commonly used python libraries:\n",
    "* [pandas](http://pandas.pydata.org/)\n",
    "* [matplotlib](http://matplotlib.org/)\n",
    "* [numpy](http://www.numpy.org/)\n",
    "* [scikit-learn](http://scikit-learn.org/stable/)"
   ]
  },
  {
   "cell_type": "code",
   "execution_count": null,
   "id": "346e36ea",
   "metadata": {},
   "outputs": [],
   "source": []
  },
  {
   "cell_type": "code",
   "execution_count": null,
   "id": "0225f42c",
   "metadata": {},
   "outputs": [],
   "source": []
  }
 ],
 "metadata": {
  "kernelspec": {
   "display_name": "Python 3 (ipykernel)",
   "language": "python",
   "name": "python3"
  },
  "language_info": {
   "codemirror_mode": {
    "name": "ipython",
    "version": 3
   },
   "file_extension": ".py",
   "mimetype": "text/x-python",
   "name": "python",
   "nbconvert_exporter": "python",
   "pygments_lexer": "ipython3",
   "version": "3.11.7"
  }
 },
 "nbformat": 4,
 "nbformat_minor": 5
}
