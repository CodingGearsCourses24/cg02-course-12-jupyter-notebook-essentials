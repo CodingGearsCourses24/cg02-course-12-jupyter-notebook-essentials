{
 "cells": [
  {
   "cell_type": "markdown",
   "id": "54604d14",
   "metadata": {},
   "source": [
    "<center>\n",
    "    <p float=\"center\">\n",
    "  <img src=\"https://s3.us-east-1.amazonaws.com/contents.newzenler.com/13491/library/6039398038d5f_1614363008_artboard-1-copy-11-100.jpg\" width=\"200\" height=\"80\"/>\n",
    "</p>\n",
    "</center>\n",
    "\n",
    "<font size=4>\n",
    "<center>\n",
    "<a href=\"https://www.codinggears.io/\" target=\"_blank\">https://www.CodingGears.io!</a>\n",
    "</center>"
   ]
  },
  {
   "cell_type": "markdown",
   "id": "cf7f97ae-fd85-45e7-95eb-f6222fdaca0a",
   "metadata": {
    "jp-MarkdownHeadingCollapsed": true
   },
   "source": [
    "### Running Terminal Commands\n",
    "\n",
    "Using \"!\" before the commmand."
   ]
  },
  {
   "cell_type": "code",
   "execution_count": null,
   "id": "1aefdef2-60d1-4937-82b9-7ae6603e94c0",
   "metadata": {},
   "outputs": [],
   "source": [
    "!ls"
   ]
  },
  {
   "cell_type": "code",
   "execution_count": null,
   "id": "cc82a9ca-823d-4cc6-8c6e-fd0c98891a24",
   "metadata": {},
   "outputs": [],
   "source": [
    "!hostname"
   ]
  },
  {
   "cell_type": "markdown",
   "id": "56ed83a4-dc5c-480e-bdac-135c54b63d11",
   "metadata": {},
   "source": [
    "### Magic Commands\n",
    "\n",
    "We have line magic commands and cell magic commands.\n",
    "\n",
    "- Line Magic commands start with % (1 percentage signs)\n",
    "- Cell Magic commands start with %%  (2 percentage sign)\n",
    "\n",
    "%lsmagic is used to display all magic commands"
   ]
  },
  {
   "cell_type": "code",
   "execution_count": null,
   "id": "014e594b-e38e-47b0-b52f-692110e21751",
   "metadata": {},
   "outputs": [],
   "source": [
    "# List all magic commands\n",
    "\n",
    "%lsmagic"
   ]
  },
  {
   "cell_type": "code",
   "execution_count": null,
   "id": "e5849aa3-2f71-401c-a045-e11c278edc72",
   "metadata": {},
   "outputs": [],
   "source": [
    "# Run ls command in terminal\n",
    "%system ls\n",
    "# %system ps"
   ]
  },
  {
   "cell_type": "markdown",
   "id": "33ff5d12-0c5c-4c20-ad62-035e26bdff8a",
   "metadata": {},
   "source": [
    "### Run a python script file"
   ]
  },
  {
   "cell_type": "code",
   "execution_count": null,
   "id": "e887fa0b-d4cd-4a09-9458-cfda84ce91ca",
   "metadata": {},
   "outputs": [],
   "source": [
    "%run hello.py"
   ]
  },
  {
   "cell_type": "markdown",
   "id": "2427daed-8069-4a7d-bc55-a318834efbf3",
   "metadata": {},
   "source": [
    "### Time a script"
   ]
  },
  {
   "cell_type": "code",
   "execution_count": null,
   "id": "08a6ad3a-d85b-401a-81d5-0ded60fa3480",
   "metadata": {},
   "outputs": [],
   "source": [
    "import time"
   ]
  },
  {
   "cell_type": "code",
   "execution_count": null,
   "id": "2af83b88-8bbc-4c3a-b08c-e4eb9324bb2d",
   "metadata": {},
   "outputs": [],
   "source": [
    "%%time\n",
    "\n",
    "print(\"Welcome to CodingGears.io\")\n",
    "\n",
    "# Wait for 10 seconds\n",
    "time.sleep(10)"
   ]
  },
  {
   "cell_type": "markdown",
   "id": "bceb85c6-2efa-440a-890e-e757eda8fc90",
   "metadata": {
    "jp-MarkdownHeadingCollapsed": true
   },
   "source": [
    "### Variables"
   ]
  },
  {
   "cell_type": "code",
   "execution_count": null,
   "id": "66b9f7be-caed-4c05-9180-704d8fe535a0",
   "metadata": {},
   "outputs": [],
   "source": [
    "name = \"Mike\"\n",
    "number1 = 100\n",
    "number2 = 200\n",
    "city =\"Dallas\""
   ]
  },
  {
   "cell_type": "code",
   "execution_count": null,
   "id": "38c3d0b7-bb33-436d-bfbb-3b0f9cb72ad3",
   "metadata": {},
   "outputs": [],
   "source": [
    "# Display list of variables\n",
    "%who"
   ]
  },
  {
   "cell_type": "code",
   "execution_count": null,
   "id": "ed473788-3c3f-4869-8972-7c2052c6a528",
   "metadata": {},
   "outputs": [],
   "source": [
    "# Display int variables\n",
    "%who int"
   ]
  },
  {
   "cell_type": "code",
   "execution_count": null,
   "id": "fd6af4b6-aac4-4135-9a53-e493d51c6571",
   "metadata": {},
   "outputs": [],
   "source": [
    "# Display string variables\n",
    "%who str"
   ]
  },
  {
   "cell_type": "code",
   "execution_count": null,
   "id": "43cd6a77-00ab-41cc-8d73-2e3a62d21ee9",
   "metadata": {},
   "outputs": [],
   "source": [
    "# detailed information about the variable\n",
    "%pinfo name"
   ]
  },
  {
   "cell_type": "markdown",
   "id": "dc17f91f-30ea-4b25-9c0c-c6b5c693c616",
   "metadata": {
    "jp-MarkdownHeadingCollapsed": true
   },
   "source": [
    "### Environmental variables."
   ]
  },
  {
   "cell_type": "code",
   "execution_count": null,
   "id": "2ccf8794-26a3-4661-91e6-aa5554a57055",
   "metadata": {},
   "outputs": [],
   "source": [
    "%env"
   ]
  },
  {
   "cell_type": "code",
   "execution_count": null,
   "id": "d38a89a2-448a-41a6-88d4-4bec3c2b273d",
   "metadata": {},
   "outputs": [],
   "source": [
    "%env BOOK=\"The Pie\""
   ]
  },
  {
   "cell_type": "code",
   "execution_count": null,
   "id": "4cc758e7-d176-48ed-aeed-1bb29b3acbb0",
   "metadata": {},
   "outputs": [],
   "source": [
    "%env BOOK"
   ]
  },
  {
   "cell_type": "markdown",
   "id": "b9ad0524-6145-42b4-ba13-5ee87a3e65a7",
   "metadata": {
    "jp-MarkdownHeadingCollapsed": true
   },
   "source": [
    "### Displaying matlpotlib graphs in jupyter notebook"
   ]
  },
  {
   "cell_type": "code",
   "execution_count": null,
   "id": "aaa76574-2143-4f5e-9b71-b1390a09553f",
   "metadata": {},
   "outputs": [],
   "source": [
    "%matplotlib inline"
   ]
  },
  {
   "cell_type": "markdown",
   "id": "9dafaa73-f6fb-4892-ae0f-6d3fd1a841d6",
   "metadata": {
    "jp-MarkdownHeadingCollapsed": true
   },
   "source": [
    "### Use %load to load the code from a file into the jupyter notebook"
   ]
  },
  {
   "cell_type": "code",
   "execution_count": null,
   "id": "81d94735-ea77-47c2-8563-9e9c55ac11a3",
   "metadata": {},
   "outputs": [],
   "source": [
    "# %load calculator.py\n",
    "def add(a, b):\n",
    "    return a + b\n"
   ]
  },
  {
   "cell_type": "markdown",
   "id": "a4a48241-f154-4056-a59b-2fbf46b108cd",
   "metadata": {
    "jp-MarkdownHeadingCollapsed": true
   },
   "source": [
    "### Write to a file\n",
    "Writes the cell contents to the file declared\n",
    "\n",
    "-a to append"
   ]
  },
  {
   "cell_type": "code",
   "execution_count": null,
   "id": "c1280ab1-ccf1-4545-8ff3-10b0b61fb0b4",
   "metadata": {},
   "outputs": [],
   "source": [
    "%%writefile log.txt\n",
    "a=10\n",
    "b=20\n",
    "sum=a+b\n",
    "print(sum)"
   ]
  },
  {
   "cell_type": "markdown",
   "id": "5081dd2b-a551-4d89-a505-a87d89707292",
   "metadata": {},
   "source": [
    "### using cat command to display the file contents \n",
    "\n",
    "Using the line magic command %cat"
   ]
  },
  {
   "cell_type": "code",
   "execution_count": null,
   "id": "cbfd4c88-25f3-4a5a-a08d-c0c7e5364f36",
   "metadata": {},
   "outputs": [],
   "source": [
    "%cat log.txt"
   ]
  },
  {
   "cell_type": "code",
   "execution_count": null,
   "id": "b2c21dd6-cad8-4c82-b2d1-708bde274875",
   "metadata": {},
   "outputs": [],
   "source": [
    "%%markdown\n",
    "Using cat command to display the file contents "
   ]
  },
  {
   "cell_type": "markdown",
   "id": "5f6c2112-2732-4057-8855-7db907c6d5e6",
   "metadata": {},
   "source": [
    "### Using %%timeit"
   ]
  },
  {
   "cell_type": "code",
   "execution_count": null,
   "id": "a6035461-d14f-4d69-9d1a-cb780f36e49c",
   "metadata": {},
   "outputs": [],
   "source": [
    "%%timeit\n",
    "\n",
    "array = []\n",
    "n=0\n",
    "for n in range(1000):\n",
    "    array.append(n**2)\n",
    "    n += 1"
   ]
  },
  {
   "cell_type": "code",
   "execution_count": null,
   "id": "96e41afb-486d-4b79-82b4-ab9a945caaf4",
   "metadata": {
    "scrolled": true
   },
   "outputs": [],
   "source": [
    "%%HTML\n",
    "\n",
    "<HTML>\n",
    "<p> 1\n",
    "<p> 2\n",
    "</HTML>"
   ]
  },
  {
   "cell_type": "markdown",
   "id": "c21cf441-ba78-4705-b896-b6255c55d4d2",
   "metadata": {},
   "source": [
    "### Running javascript using cell magic command %%javascript"
   ]
  },
  {
   "cell_type": "code",
   "execution_count": null,
   "id": "86ba4b3c-d88e-42fd-8ac8-f0d1036044b3",
   "metadata": {},
   "outputs": [],
   "source": [
    "%%javascript\n",
    "\n",
    "var date = new Date();\n",
    "alert(date);"
   ]
  }
 ],
 "metadata": {
  "kernelspec": {
   "display_name": "Python 3 (ipykernel)",
   "language": "python",
   "name": "python3"
  },
  "language_info": {
   "codemirror_mode": {
    "name": "ipython",
    "version": 3
   },
   "file_extension": ".py",
   "mimetype": "text/x-python",
   "name": "python",
   "nbconvert_exporter": "python",
   "pygments_lexer": "ipython3",
   "version": "3.11.7"
  }
 },
 "nbformat": 4,
 "nbformat_minor": 5
}
