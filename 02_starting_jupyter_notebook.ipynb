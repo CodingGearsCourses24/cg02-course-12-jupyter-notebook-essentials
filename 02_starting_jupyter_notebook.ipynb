{
 "cells": [
  {
   "cell_type": "markdown",
   "id": "9ec571ed",
   "metadata": {},
   "source": [
    "<center>\n",
    "    <p float=\"center\">\n",
    "  <img src=\"https://s3.us-east-1.amazonaws.com/contents.newzenler.com/13491/library/6039398038d5f_1614363008_artboard-1-copy-11-100.jpg\" width=\"200\" height=\"80\"/>\n",
    "</p>\n",
    "</center>\n",
    "\n",
    "<font size=4>\n",
    "<center>\n",
    "<a href=\"https://www.codinggears.io/\" target=\"_blank\">https://www.CodingGears.io!</a>\n",
    "</center>\n",
    "    \n",
    "<h1>\n",
    "    <center>\n",
    "        <font size=6>Welcome To CodingGears.io</font>\n",
    "    </center>\n",
    "</h1>"
   ]
  },
  {
   "cell_type": "markdown",
   "id": "546e8fca",
   "metadata": {},
   "source": [
    "## Topics for this sessions"
   ]
  },
  {
   "cell_type": "markdown",
   "id": "2b1fce21",
   "metadata": {},
   "source": [
    "* Starting Jupyter Notebook using:\n",
    "    * Anaconda Navigator\n",
    "    * command line\n",
    "        * jupyter notebook\n",
    "    * Command Line \n",
    "        * cd to your desired folder and\n",
    "        * launch notebook from th\n",
    "    * command line with a custom working directory\n",
    "        * jupyter notebook --notebook-dir=<dir_path>\n",
    "* Stopping\n",
    "* Filesystem\n"
   ]
  }
 ],
 "metadata": {
  "kernelspec": {
   "display_name": "Python 3 (ipykernel)",
   "language": "python",
   "name": "python3"
  },
  "language_info": {
   "codemirror_mode": {
    "name": "ipython",
    "version": 3
   },
   "file_extension": ".py",
   "mimetype": "text/x-python",
   "name": "python",
   "nbconvert_exporter": "python",
   "pygments_lexer": "ipython3",
   "version": "3.11.7"
  }
 },
 "nbformat": 4,
 "nbformat_minor": 5
}
