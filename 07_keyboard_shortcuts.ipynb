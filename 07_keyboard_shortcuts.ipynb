{
 "cells": [
  {
   "cell_type": "markdown",
   "id": "fd454a06",
   "metadata": {},
   "source": [
    "<center>\n",
    "    <p float=\"center\">\n",
    "  <img src=\"https://s3.us-east-1.amazonaws.com/contents.newzenler.com/13491/library/6039398038d5f_1614363008_artboard-1-copy-11-100.jpg\" width=\"200\" height=\"80\"/>\n",
    "</p>\n",
    "</center>\n",
    "\n",
    "<font size=4>\n",
    "<center>\n",
    "<a href=\"https://www.codinggears.io/\" target=\"_blank\">https://www.CodingGears.io!</a>\n",
    "</center>"
   ]
  },
  {
   "cell_type": "markdown",
   "id": "8c873ac0",
   "metadata": {},
   "source": [
    "# Keyboard Shortcuts"
   ]
  },
  {
   "cell_type": "markdown",
   "id": "cc59dc2e",
   "metadata": {},
   "source": [
    "Keyboard shortcuts:\n",
    "* Command + Return --> Execute\n",
    "* Y --> Convert to Code Cell\n",
    "* M --> Convert to Markdown Cell"
   ]
  },
  {
   "cell_type": "code",
   "execution_count": null,
   "id": "a5dad917",
   "metadata": {},
   "outputs": [],
   "source": []
  }
 ],
 "metadata": {
  "kernelspec": {
   "display_name": "Python 3 (ipykernel)",
   "language": "python",
   "name": "python3"
  },
  "language_info": {
   "codemirror_mode": {
    "name": "ipython",
    "version": 3
   },
   "file_extension": ".py",
   "mimetype": "text/x-python",
   "name": "python",
   "nbconvert_exporter": "python",
   "pygments_lexer": "ipython3",
   "version": "3.11.7"
  }
 },
 "nbformat": 4,
 "nbformat_minor": 5
}
